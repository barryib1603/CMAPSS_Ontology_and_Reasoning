{
 "cells": [
  {
   "cell_type": "code",
   "execution_count": 1,
   "id": "fbded14c",
   "metadata": {},
   "outputs": [
    {
     "data": {
      "text/plain": [
       "'# Re-importing necessary libraries\\nfrom rdflib import Graph, Namespace, Literal, RDF, RDFS, OWL, XSD\\nfrom rdflib.namespace import NamespaceManager\\nimport networkx as nx\\nimport matplotlib.pyplot as plt\\n\\n# Return a success message\\n\"Libraries successfully re-imported.\"'"
      ]
     },
     "execution_count": 1,
     "metadata": {},
     "output_type": "execute_result"
    }
   ],
   "source": [
    "'''# Re-importing necessary libraries\n",
    "from rdflib import Graph, Namespace, Literal, RDF, RDFS, OWL, XSD\n",
    "from rdflib.namespace import NamespaceManager\n",
    "import networkx as nx\n",
    "import matplotlib.pyplot as plt\n",
    "\n",
    "# Return a success message\n",
    "\"Libraries successfully re-imported.\"'''"
   ]
  },
  {
   "cell_type": "code",
   "execution_count": 2,
   "id": "4025c2e5",
   "metadata": {},
   "outputs": [
    {
     "data": {
      "text/plain": [
       "'Graph for OWL 2 initialized and namespaces defined.'"
      ]
     },
     "execution_count": 2,
     "metadata": {},
     "output_type": "execute_result"
    }
   ],
   "source": [
    "# Importing necessary libraries\n",
    "from rdflib import Graph, Namespace, Literal, RDF, RDFS, OWL, XSD\n",
    "from rdflib.namespace import NamespaceManager\n",
    "\n",
    "# Create a new Graph for OWL 2\n",
    "g_owl2 = Graph()\n",
    "\n",
    "# Define namespaces for OWL 2 ontology\n",
    "AERO = Namespace(\"http://www.aero.org#\")\n",
    "g_owl2.bind('aero', AERO)\n",
    "g_owl2.bind('rdf', RDF)\n",
    "g_owl2.bind('rdfs', RDFS)\n",
    "g_owl2.bind('owl', OWL)\n",
    "\n",
    "# Return a success message\n",
    "\"Graph for OWL 2 initialized and namespaces defined.\"\n"
   ]
  },
  {
   "cell_type": "code",
   "execution_count": 3,
   "id": "0dda68d6",
   "metadata": {},
   "outputs": [
    {
     "data": {
      "text/plain": [
       "'Entities and sub-entities added to the OWL 2 graph.'"
      ]
     },
     "execution_count": 3,
     "metadata": {},
     "output_type": "execute_result"
    }
   ],
   "source": [
    "# Add main entities\n",
    "for entity in [\"Engine\", \"EngineComponent\", \"Cycle\", \"Sensor\", \"Failure\", \n",
    "               \"OperatingConditionParameter\", \"WeatherCondition\", \"FailurePropagation\"]:\n",
    "    g_owl2.add((AERO[entity], RDF.type, OWL.Class))\n",
    "\n",
    "# Add sub-entities of EngineComponent\n",
    "for sub_entity in [\"Fan\", \"LPC\", \"HPC\", \"LPT\", \"HPT\", \"Burner\", \"Exhaust\"]:\n",
    "    g_owl2.add((AERO[sub_entity], RDF.type, OWL.Class))\n",
    "    g_owl2.add((AERO[sub_entity], RDFS.subClassOf, AERO.EngineComponent))\n",
    "\n",
    "# Add sub-entities of Sensor\n",
    "for i in range(1, 22):\n",
    "    sensor = f\"Sensor{i}\"\n",
    "    g_owl2.add((AERO[sensor], RDF.type, OWL.Class))\n",
    "    g_owl2.add((AERO[sensor], RDFS.subClassOf, AERO.Sensor))\n",
    "\n",
    "# Add sub-entities of OperatingConditionParameter\n",
    "for sub_entity in [\"FlightAltitude\", \"FlightSpeed\", \"IntakeAirTemperature\"]:\n",
    "    g_owl2.add((AERO[sub_entity], RDF.type, OWL.Class))\n",
    "    g_owl2.add((AERO[sub_entity], RDFS.subClassOf, AERO.OperatingConditionParameter))\n",
    "\n",
    "# Add sub-entities of Failure\n",
    "for sub_entity in [\"ThermalFailure\", \"MechanicalFailure\", \"LubricationFailure\", \n",
    "                   \"CoolingSystemFailure\", \"FuelSystemFailure\"]:\n",
    "    g_owl2.add((AERO[sub_entity], RDF.type, OWL.Class))\n",
    "    g_owl2.add((AERO[sub_entity], RDFS.subClassOf, AERO.Failure))\n",
    "\n",
    "# Return a success message\n",
    "\"Entities and sub-entities added to the OWL 2 graph.\"\n"
   ]
  },
  {
   "cell_type": "code",
   "execution_count": 4,
   "id": "77e551f8",
   "metadata": {},
   "outputs": [
    {
     "data": {
      "text/plain": [
       "'Relations added to the OWL 2 graph.'"
      ]
     },
     "execution_count": 4,
     "metadata": {},
     "output_type": "execute_result"
    }
   ],
   "source": [
    "# Define properties for relations\n",
    "hasMultiple = AERO.hasMultiple\n",
    "monitoredBy = AERO.monitoredBy\n",
    "canHave = AERO.canHave\n",
    "isCloseTo = AERO.isCloseTo\n",
    "flowGoesFrom = AERO.flowGoesFrom\n",
    "\n",
    "# Create ObjectProperties for relations\n",
    "relations_properties = [hasMultiple, monitoredBy, canHave, isCloseTo, flowGoesFrom]\n",
    "for rel_prop in relations_properties:\n",
    "    g_owl2.add((rel_prop, RDF.type, OWL.ObjectProperty))\n",
    "\n",
    "# Add relations\n",
    "relations_data = [\n",
    "    (AERO.Engine, hasMultiple, AERO.EngineComponent),\n",
    "    (AERO.Engine, hasMultiple, AERO.Cycle),\n",
    "    (AERO.Engine, canHave, AERO.Failure),\n",
    "    (AERO.Cycle, hasMultiple, AERO.OperatingConditionParameter),\n",
    "    (AERO.Fan, monitoredBy, AERO.Sensor1),\n",
    "    (AERO.Fan, monitoredBy, AERO.Sensor8),\n",
    "    (AERO.Fan, monitoredBy, AERO.Sensor18),\n",
    "    (AERO.Fan, monitoredBy, AERO.Sensor19),\n",
    "    (AERO.Fan, canHave, AERO.MechanicalFailure),\n",
    "    (AERO.LPC, monitoredBy, AERO.Sensor2),\n",
    "    (AERO.LPC, canHave, AERO.MechanicalFailure),\n",
    "    (AERO.LPC, canHave, AERO.LubricationFailure),\n",
    "    (AERO.HPC, monitoredBy, AERO.Sensor3),\n",
    "    (AERO.HPC, monitoredBy, AERO.Sensor7),\n",
    "    (AERO.HPC, monitoredBy, AERO.Sensor11),\n",
    "    (AERO.HPC, monitoredBy, AERO.Sensor12),\n",
    "    (AERO.HPC, canHave, AERO.ThermalFailure),\n",
    "    (AERO.HPC, canHave, AERO.MechanicalFailure),\n",
    "    (AERO.HPC, canHave, AERO.LubricationFailure),\n",
    "    (AERO.LPT, monitoredBy, AERO.Sensor4),\n",
    "    (AERO.LPT, monitoredBy, AERO.Sensor21),\n",
    "    (AERO.LPT, canHave, AERO.ThermalFailure),\n",
    "    (AERO.LPT, canHave, AERO.MechanicalFailure),\n",
    "    (AERO.LPT, canHave, AERO.LubricationFailure),\n",
    "    (AERO.LPT, canHave, AERO.CoolingSystemFailure),\n",
    "    (AERO.HPT, monitoredBy, AERO.Sensor20),\n",
    "    (AERO.HPT, canHave, AERO.ThermalFailure),\n",
    "    (AERO.HPT, canHave, AERO.MechanicalFailure),\n",
    "    (AERO.HPT, canHave, AERO.LubricationFailure),\n",
    "    (AERO.HPT, canHave, AERO.CoolingSystemFailure),\n",
    "    (AERO.Burner, monitoredBy, AERO.Sensor16),\n",
    "    (AERO.Burner, monitoredBy, AERO.Sensor17),\n",
    "    (AERO.Burner, canHave, AERO.ThermalFailure),\n",
    "    (AERO.Burner, canHave, AERO.FuelSystemFailure),\n",
    "    (AERO.Fan, isCloseTo, AERO.LPC),\n",
    "    (AERO.LPC, isCloseTo, AERO.HPC),\n",
    "    (AERO.HPC, isCloseTo, AERO.Burner),\n",
    "    (AERO.Burner, isCloseTo, AERO.HPT),\n",
    "    (AERO.HPT, isCloseTo, AERO.LPT),\n",
    "    (AERO.LPT, isCloseTo, AERO.Exhaust),\n",
    "    (AERO.Fan, flowGoesFrom, AERO.LPC),\n",
    "    (AERO.LPC, flowGoesFrom, AERO.HPC),\n",
    "    (AERO.HPC, flowGoesFrom, AERO.Burner),\n",
    "    (AERO.Burner, flowGoesFrom, AERO.HPT),\n",
    "    (AERO.HPT, flowGoesFrom, AERO.LPT),\n",
    "    (AERO.LPT, flowGoesFrom, AERO.Exhaust)\n",
    "]\n",
    "\n",
    "# Add the relations to the graph\n",
    "for (s, p, o) in relations_data:\n",
    "    g_owl2.add((s, p, o))\n",
    "\n",
    "# Return a success message\n",
    "\"Relations added to the OWL 2 graph.\"\n"
   ]
  },
  {
   "cell_type": "code",
   "execution_count": 5,
   "id": "1861f36b",
   "metadata": {},
   "outputs": [
    {
     "data": {
      "text/plain": [
       "'Attributes added to the OWL 2 graph.'"
      ]
     },
     "execution_count": 5,
     "metadata": {},
     "output_type": "execute_result"
    }
   ],
   "source": [
    "# Define attributes for each entity\n",
    "attributes = {\n",
    "    AERO.Engine: [\n",
    "        (AERO.UnitNumber, XSD.int)\n",
    "    ],\n",
    "    AERO.EngineComponent: [\n",
    "        (AERO.ComponentType, XSD.string),\n",
    "        (AERO.ComponentStatus, XSD.string)\n",
    "    ],\n",
    "    AERO.Cycle: [\n",
    "        (AERO.CycleNumber, XSD.int)\n",
    "    ],\n",
    "    AERO.Sensor: [\n",
    "        (AERO.SensorType, XSD.string),\n",
    "        (AERO.MeasurementValue, XSD.float),\n",
    "        (AERO.MeasurementTime, XSD.dateTime),\n",
    "        (AERO.MeasurementUnit, XSD.string)\n",
    "    ],\n",
    "    AERO.OperationalParameter: [\n",
    "        (AERO.ParameterType, XSD.string),\n",
    "        (AERO.ParameterValue, XSD.float)\n",
    "    ],\n",
    "    AERO.Failure: [\n",
    "        (AERO.FailureType, XSD.string),\n",
    "        (AERO.MomentOfFailure, XSD.dateTime)\n",
    "    ],\n",
    "    AERO.OperatingCondition: [\n",
    "        (AERO.ConditionType, XSD.string)\n",
    "    ],\n",
    "    AERO.WeatherCondition: [\n",
    "        (AERO.ConditionType, XSD.string),\n",
    "        (AERO.Value, XSD.float)\n",
    "    ],\n",
    "    AERO.FailurePropagation: [\n",
    "        (AERO.SourceComponent, XSD.string),\n",
    "        (AERO.TargetComponent, XSD.string),\n",
    "        (AERO.PropagationProbability, XSD.float)\n",
    "    ]\n",
    "}\n",
    "\n",
    "# Add the attributes to the graph\n",
    "for entity, attrs in attributes.items():\n",
    "    for attr, datatype in attrs:\n",
    "        g_owl2.add((attr, RDF.type, OWL.DatatypeProperty))\n",
    "        g_owl2.add((attr, RDFS.domain, entity))\n",
    "        g_owl2.add((attr, RDFS.range, datatype))\n",
    "\n",
    "# Return a success message\n",
    "\"Attributes added to the OWL 2 graph.\"\n"
   ]
  },
  {
   "cell_type": "code",
   "execution_count": 6,
   "id": "b05b9c54",
   "metadata": {},
   "outputs": [
    {
     "data": {
      "text/plain": [
       "[(rdflib.term.URIRef('http://www.aero.org#HPC'),),\n",
       " (rdflib.term.URIRef('http://www.aero.org#LPT'),),\n",
       " (rdflib.term.URIRef('http://www.aero.org#HPT'),),\n",
       " (rdflib.term.URIRef('http://www.aero.org#Burner'),)]"
      ]
     },
     "execution_count": 6,
     "metadata": {},
     "output_type": "execute_result"
    }
   ],
   "source": [
    "# 1. Which engine components can have a Thermal Failure?\n",
    "query1 = \"\"\"\n",
    "PREFIX aero: <http://www.aero.org#>\n",
    "SELECT ?component\n",
    "WHERE {\n",
    "    ?component aero:canHave aero:ThermalFailure .\n",
    "}\n",
    "\"\"\"\n",
    "\n",
    "\n",
    "# Execute the queries on OWL 2 graph\n",
    "results1_owl2 = list(g_owl2.query(query1))\n",
    "\n",
    "results1_owl2"
   ]
  },
  {
   "cell_type": "code",
   "execution_count": 7,
   "id": "94f4c33e",
   "metadata": {},
   "outputs": [
    {
     "data": {
      "text/plain": [
       "[(rdflib.term.URIRef('http://www.aero.org#Sensor3'),),\n",
       " (rdflib.term.URIRef('http://www.aero.org#Sensor7'),),\n",
       " (rdflib.term.URIRef('http://www.aero.org#Sensor11'),),\n",
       " (rdflib.term.URIRef('http://www.aero.org#Sensor12'),)]"
      ]
     },
     "execution_count": 7,
     "metadata": {},
     "output_type": "execute_result"
    }
   ],
   "source": [
    "\n",
    "# 2. Which sensors monitor the HPC?\n",
    "query2 = \"\"\"\n",
    "PREFIX aero: <http://www.aero.org#>\n",
    "SELECT ?sensor\n",
    "WHERE {\n",
    "    aero:HPC aero:monitoredBy ?sensor .\n",
    "}\n",
    "\"\"\"\n",
    "\n",
    "# Execute the queries on OWL 2 graph\n",
    "results2_owl2 = list(g_owl2.query(query2))\n",
    "\n",
    "results2_owl2"
   ]
  },
  {
   "cell_type": "code",
   "execution_count": 8,
   "id": "ff34571e",
   "metadata": {},
   "outputs": [
    {
     "data": {
      "text/plain": [
       "[(rdflib.term.URIRef('http://www.aero.org#HPC'),)]"
      ]
     },
     "execution_count": 8,
     "metadata": {},
     "output_type": "execute_result"
    }
   ],
   "source": [
    "# 3. Which engine components are close to the Burner?\n",
    "query3 = \"\"\"\n",
    "PREFIX aero: <http://www.aero.org#>\n",
    "SELECT ?component\n",
    "WHERE {\n",
    "    ?component aero:isCloseTo aero:Burner .\n",
    "}\n",
    "\"\"\"\n",
    "\n",
    "# Execute the queries on OWL 2 graph\n",
    "results3_owl2 = list(g_owl2.query(query3))\n",
    "\n",
    "results3_owl2"
   ]
  },
  {
   "cell_type": "code",
   "execution_count": 9,
   "id": "d859a39c",
   "metadata": {},
   "outputs": [
    {
     "name": "stdout",
     "output_type": "stream",
     "text": [
      "Warning: When  cdn_resources is 'local' jupyter notebook has issues displaying graphics on chrome/safari. Use cdn_resources='in_line' or cdn_resources='remote' if you have issues viewing graphics in a notebook.\n",
      "ont_graph.html\n"
     ]
    },
    {
     "data": {
      "text/html": [
       "\n",
       "        <iframe\n",
       "            width=\"100%\"\n",
       "            height=\"600px\"\n",
       "            src=\"ont_graph.html\"\n",
       "            frameborder=\"0\"\n",
       "            allowfullscreen\n",
       "            \n",
       "        ></iframe>\n",
       "        "
      ],
      "text/plain": [
       "<IPython.lib.display.IFrame at 0x22fafacdff0>"
      ]
     },
     "execution_count": 9,
     "metadata": {},
     "output_type": "execute_result"
    }
   ],
   "source": [
    "from pyvis.network import Network\n",
    "import networkx as nx\n",
    "\n",
    "'''# Convert rdflib Graph to NetworkX graph\n",
    "def convert_to_networkx(graph):\n",
    "    G = nx.DiGraph()\n",
    "    \n",
    "    for subj, pred, obj in graph:\n",
    "        if not (subj, obj) in G.edges():\n",
    "            G.add_edge(subj, obj, title=pred)\n",
    "        else:\n",
    "            existing_data = G[subj][obj]\n",
    "            if existing_data[\"title\"] != pred:\n",
    "                new_title = existing_data[\"title\"] + \"\\n\" + pred\n",
    "                G[subj][obj][\"title\"] = new_title\n",
    "                \n",
    "    return G'''\n",
    "\n",
    "# Convert rdflib Graph to NetworkX graph with filtering out rdf:type\n",
    "def convert_to_networkx_filtered(graph):\n",
    "    G = nx.DiGraph()\n",
    "    \n",
    "    for subj, pred, obj in graph:\n",
    "        # Filter out rdf:type triples\n",
    "        if pred != RDF.type:\n",
    "            if not (subj, obj) in G.edges():\n",
    "                G.add_edge(subj, obj, title=pred)\n",
    "            else:\n",
    "                existing_data = G[subj][obj]\n",
    "                if existing_data[\"title\"] != pred:\n",
    "                    new_title = existing_data[\"title\"] + \"\\n\" + pred\n",
    "                    G[subj][obj][\"title\"] = new_title\n",
    "                \n",
    "    return G\n",
    "\n",
    "\n",
    "# Create a pyvis Network from a NetworkX graph\n",
    "def draw_networkx_nx(graph, notebook=True):\n",
    "    nt = Network(notebook=notebook, directed=True)\n",
    "    # Populate the network with the NetworkX graph\n",
    "    nt.from_nx(graph)\n",
    "    # Set options\n",
    "    nt.set_options(\"\"\"\n",
    "    var options = {\n",
    "      \"nodes\": {\n",
    "        \"font\": {\n",
    "          \"size\": 12\n",
    "        }\n",
    "      },\n",
    "      \"edges\": {\n",
    "        \"smooth\": true\n",
    "      },\n",
    "      \"physics\": {\n",
    "        \"minVelocity\": 0.75,\n",
    "        \"solver\": \"forceAtlas2Based\"\n",
    "      }\n",
    "    }\n",
    "    \"\"\")\n",
    "    return nt\n",
    "\n",
    "# Convert the RDFlib graph to NetworkX format\n",
    "'''G_nx = convert_to_networkx(g_owl2)'''\n",
    "G_nx = convert_to_networkx_filtered(g_owl2)\n",
    "\n",
    "# Draw the network\n",
    "nt = draw_networkx_nx(G_nx)\n",
    "nt.show(\"ont_graph.html\")\n"
   ]
  },
  {
   "cell_type": "code",
   "execution_count": 10,
   "id": "89fc0178",
   "metadata": {},
   "outputs": [
    {
     "name": "stdout",
     "output_type": "stream",
     "text": [
      "Warning: When  cdn_resources is 'local' jupyter notebook has issues displaying graphics on chrome/safari. Use cdn_resources='in_line' or cdn_resources='remote' if you have issues viewing graphics in a notebook.\n",
      "ont_graph_no_ns.html\n"
     ]
    },
    {
     "data": {
      "text/html": [
       "\n",
       "        <iframe\n",
       "            width=\"100%\"\n",
       "            height=\"600px\"\n",
       "            src=\"ont_graph_no_ns.html\"\n",
       "            frameborder=\"0\"\n",
       "            allowfullscreen\n",
       "            \n",
       "        ></iframe>\n",
       "        "
      ],
      "text/plain": [
       "<IPython.lib.display.IFrame at 0x22fb0037cd0>"
      ]
     },
     "execution_count": 10,
     "metadata": {},
     "output_type": "execute_result"
    }
   ],
   "source": [
    "# Adjust the conversion function to remove namespaces from labels for pyvis\n",
    "def convert_to_networkx_without_namespace_pyvis(graph):\n",
    "    G = nx.DiGraph()\n",
    "    \n",
    "    for subj, pred, obj in graph:\n",
    "        # Filter out rdf:type triples\n",
    "        if pred != RDF.type:\n",
    "            # Use only the local part of URIs as labels\n",
    "            s_label = str(subj).split(\"#\")[-1] if \"#\" in str(subj) else str(subj).split(\"/\")[-1]\n",
    "            o_label = str(obj).split(\"#\")[-1] if \"#\" in str(obj) else str(obj).split(\"/\")[-1]\n",
    "            p_label = str(pred).split(\"#\")[-1] if \"#\" in str(pred) else str(pred).split(\"/\")[-1]\n",
    "            \n",
    "            # Add nodes and edges with local labels\n",
    "            if not (s_label, o_label) in G.edges():\n",
    "                G.add_edge(s_label, o_label, title=p_label)\n",
    "            else:\n",
    "                existing_data = G[s_label][o_label]\n",
    "                if existing_data[\"title\"] != p_label:\n",
    "                    new_title = existing_data[\"title\"] + \"\\n\" + p_label\n",
    "                    G[s_label][o_label][\"title\"] = new_title\n",
    "                \n",
    "    return G\n",
    "\n",
    "# Convert the RDFlib graph to NetworkX format without namespaces for pyvis\n",
    "G_nx_no_ns_pyvis = convert_to_networkx_without_namespace_pyvis(g_owl2)\n",
    "\n",
    "# Draw the network with pyvis without namespaces\n",
    "nt_no_ns = draw_networkx_nx(G_nx_no_ns_pyvis)\n",
    "nt_no_ns.show(\"ont_graph_no_ns.html\")\n"
   ]
  },
  {
   "cell_type": "code",
   "execution_count": 11,
   "id": "1c30fa7a",
   "metadata": {
    "scrolled": false
   },
   "outputs": [
    {
     "name": "stdout",
     "output_type": "stream",
     "text": [
      "Warning: When  cdn_resources is 'local' jupyter notebook has issues displaying graphics on chrome/safari. Use cdn_resources='in_line' or cdn_resources='remote' if you have issues viewing graphics in a notebook.\n",
      "ont_graph_no_ns_adjusted.html\n"
     ]
    },
    {
     "data": {
      "text/html": [
       "\n",
       "        <iframe\n",
       "            width=\"100%\"\n",
       "            height=\"600px\"\n",
       "            src=\"ont_graph_no_ns_adjusted.html\"\n",
       "            frameborder=\"0\"\n",
       "            allowfullscreen\n",
       "            \n",
       "        ></iframe>\n",
       "        "
      ],
      "text/plain": [
       "<IPython.lib.display.IFrame at 0x22faf98b130>"
      ]
     },
     "execution_count": 11,
     "metadata": {},
     "output_type": "execute_result"
    }
   ],
   "source": [
    "from pyvis.network import Network\n",
    "import networkx as nx\n",
    "\n",
    "def draw_networkx_nx_adjusted(graph, notebook=True):\n",
    "    nt = Network(notebook=notebook, directed=True)\n",
    "    nt.from_nx(graph)\n",
    "    \n",
    "    # Adjust node size and font size\n",
    "    nt.set_options(\"\"\"\n",
    "    var options = {\n",
    "      \"nodes\": {\n",
    "        \"font\": {\n",
    "          \"size\": 30\n",
    "        },\n",
    "        \"scaling\": {\n",
    "            \"label\": {\n",
    "                \"enabled\": true,\n",
    "                \"min\": 18,\n",
    "                \"max\": 18\n",
    "            }\n",
    "        },\n",
    "        \"size\": 30\n",
    "      },\n",
    "      \"edges\": {\n",
    "        \"smooth\": true\n",
    "      },\n",
    "      \"physics\": {\n",
    "        \"minVelocity\": 2.0,\n",
    "        \"solver\": \"forceAtlas2Based\"\n",
    "      }\n",
    "    }\n",
    "    \"\"\")\n",
    "    return nt\n",
    "\n",
    "# Draw the network with adjusted sizes\n",
    "nt_no_ns_adjusted = draw_networkx_nx_adjusted(G_nx_no_ns_pyvis)\n",
    "nt_no_ns_adjusted.show(\"ont_graph_no_ns_adjusted.html\")\n"
   ]
  },
  {
   "cell_type": "code",
   "execution_count": null,
   "id": "c97093eb",
   "metadata": {},
   "outputs": [],
   "source": []
  },
  {
   "cell_type": "code",
   "execution_count": null,
   "id": "1dcdc26b",
   "metadata": {},
   "outputs": [],
   "source": []
  },
  {
   "cell_type": "code",
   "execution_count": null,
   "id": "ee167655",
   "metadata": {},
   "outputs": [],
   "source": []
  }
 ],
 "metadata": {
  "kernelspec": {
   "display_name": "Python 3 (ipykernel)",
   "language": "python",
   "name": "python3"
  },
  "language_info": {
   "codemirror_mode": {
    "name": "ipython",
    "version": 3
   },
   "file_extension": ".py",
   "mimetype": "text/x-python",
   "name": "python",
   "nbconvert_exporter": "python",
   "pygments_lexer": "ipython3",
   "version": "3.10.9"
  }
 },
 "nbformat": 4,
 "nbformat_minor": 5
}
